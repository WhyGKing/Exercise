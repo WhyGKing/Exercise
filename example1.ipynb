{
 "cells": [
  {
   "cell_type": "markdown",
   "id": "proprietary-literacy",
   "metadata": {},
   "source": [
    "##### 파이썬 웹 크롤링을 이용하여, 데이타를 수집하고 분석하는 방법을 알아본다."
   ]
  },
  {
   "cell_type": "code",
   "execution_count": 13,
   "id": "beginning-calvin",
   "metadata": {},
   "outputs": [
    {
     "name": "stdout",
     "output_type": "stream",
     "text": [
      "     합계 국내발생 해외유입    확진환자   격리중    격리해제   사망자     발생률\n",
      "합계  511  483   28  128283  7687  118717  1879  247.42\n",
      "서울  163  163    0   39895  2692   36739   464  409.87\n",
      "부산   14   13    1    5286   284    4880   122  154.93\n",
      "대구    8    8    0    9448   111    9116   221  387.77\n",
      "인천   21   20    1    5839   185    5594    60  197.52\n",
      "광주   24   23    1    2518   107    2389    22  172.86\n",
      "대전    7    7    0    1835   130    1685    20  124.48\n",
      "울산   19   19    0    2247   386    1823    38  195.90\n",
      "세종    0    0    0     386    27     358     1  112.76\n",
      "경기  138  127   11   35852  2019   33225   608  270.57\n",
      "강원   12   12    0    2843   184    2609    50  184.55\n",
      "충북    4    4    0    2708   112    2531    65  169.31\n",
      "충남   18   18    0    3175   181    2958    36  149.59\n",
      "전북   12   12    0    2033   115    1860    58  111.87\n",
      "전남   10   10    0    1178   141    1026    11   63.17\n",
      "경북   15   15    0    4352   294    3979    79  163.45\n",
      "경남   10    9    1    4268   367    3882    19  126.97\n",
      "제주   24   23    1     816   110     705     1  121.66\n",
      "검역   12    0   12    3604   242    3358     4       -\n"
     ]
    }
   ],
   "source": [
    "# 필요로 하는 패키지,모듈,클래스 등을 import\n",
    "\n",
    "import requests\n",
    "from bs4 import BeautifulSoup\n",
    "import pandas as pd\n",
    "from pandas import DataFrame, Series\n",
    "import numpy as np\n",
    "import matplotlib as mpl\n",
    "import matplotlib.pyplot as plt\n",
    "\n",
    "# 분석 대상 데이타를 가져올 소스사이트\n",
    "# http://ncov.mohw.go.kr/bdBoardList_Real.do?brdId=1&brdGubun=13&ncvContSeq=&contSeq=&board_id=&gubun=\n",
    "\n",
    "# requests.get() 이용, 소스사이트를 가져온다.\n",
    "source = requests.get('http://ncov.mohw.go.kr/bdBoardList_Real.do?brdId=1&brdGubun=13&ncvContSeq=&contSeq=&board_id=&gubun=')\n",
    "\n",
    "# html parsing, BeautifulSoup 이용\n",
    "soup = BeautifulSoup(source.content,'html.parser')\n",
    "\n",
    "\n",
    "# xpath of table : //*[@id=\"content\"]/div/div[5]/table\n",
    "# class name : num midsize\n",
    "\n",
    "# 시도별 발생현황, 데이터를 가진 테이블을 찾는다.\n",
    "# 검사결과, <table class = \"num, midsize\"\n",
    "table = soup.find('table',{'class':'midsize'})\n",
    "table = soup.find('tbody')\n",
    "\n",
    "data = []\n",
    "\n",
    "for tr in table.find_all('tr'):\n",
    "    tds = list(tr.find_all('td'))\n",
    "    rowdata = []\n",
    "    for td in tds:\n",
    "        rowdata.append(td.text.replace(',',''))\n",
    "    data.append(rowdata)\n",
    "\n",
    "# 데이타를 dataframe으로 변환\n",
    "column_name = ['합계','국내발생','해외유입','확진환자','격리중','격리해제','사망자','발생률']\n",
    "index_name = ['합계','서울','부산','대구','인천','광주','대전','울산','세종','경기','강원','충북','충남','전북','전남','경북','경남','제주','검역']\n",
    "df = DataFrame(data, columns=column_name, index=index_name)\n",
    "print(df)\n",
    "\n",
    "\n"
   ]
  },
  {
   "cell_type": "code",
   "execution_count": null,
   "id": "acting-graph",
   "metadata": {},
   "outputs": [],
   "source": []
  }
 ],
 "metadata": {
  "kernelspec": {
   "display_name": "Python 3",
   "language": "python",
   "name": "python3"
  },
  "language_info": {
   "codemirror_mode": {
    "name": "ipython",
    "version": 3
   },
   "file_extension": ".py",
   "mimetype": "text/x-python",
   "name": "python",
   "nbconvert_exporter": "python",
   "pygments_lexer": "ipython3",
   "version": "3.9.2"
  }
 },
 "nbformat": 4,
 "nbformat_minor": 5
}
