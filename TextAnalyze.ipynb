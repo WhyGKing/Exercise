{
 "cells": [
  {
   "cell_type": "code",
   "execution_count": null,
   "id": "coordinate-cache",
   "metadata": {},
   "outputs": [],
   "source": [
    "from urllib.request import urlopen\n",
    "from nltk import tokenize\n",
    "# nl: natural language(자연어), tokennize: 자연어를 쪼개서 분석\n",
    "# konlpy 는 한국어 자연어를 tokenize\n",
    "from nltk.sentiment.vader import SentimentIntensityAnalyzer\n",
    "from openpyxl import Workbook\n",
    "import matplotlib.pyplot as plt\n",
    "from wordcloud import WordCloud, STOPWORDS\n",
    "# stopwords : 분석어에서 제외 (욕설 등....)"
   ]
  }
 ],
 "metadata": {
  "kernelspec": {
   "display_name": "Python 3",
   "language": "python",
   "name": "python3"
  },
  "language_info": {
   "codemirror_mode": {
    "name": "ipython",
    "version": 3
   },
   "file_extension": ".py",
   "mimetype": "text/x-python",
   "name": "python",
   "nbconvert_exporter": "python",
   "pygments_lexer": "ipython3",
   "version": "3.9.2"
  }
 },
 "nbformat": 4,
 "nbformat_minor": 5
}
