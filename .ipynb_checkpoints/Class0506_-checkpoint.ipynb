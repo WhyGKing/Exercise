{
 "cells": [
  {
   "cell_type": "markdown",
   "id": "banner-tumor",
   "metadata": {},
   "source": [
    "### 셀레니움\n",
    "selenium : UI test용 library\n",
    "web driver에 따라 다르게 사용"
   ]
  },
  {
   "cell_type": "code",
   "execution_count": 1,
   "id": "subject-hampshire",
   "metadata": {},
   "outputs": [
    {
     "name": "stdout",
     "output_type": "stream",
     "text": [
      "Collecting selenium\n",
      "  Downloading selenium-3.141.0-py2.py3-none-any.whl (904 kB)\n",
      "Requirement already satisfied: urllib3 in c:\\users\\user\\appdata\\local\\programs\\python\\python39\\lib\\site-packages (from selenium) (1.26.4)\n",
      "Installing collected packages: selenium\n",
      "Successfully installed selenium-3.141.0\n"
     ]
    },
    {
     "name": "stderr",
     "output_type": "stream",
     "text": [
      "WARNING: You are using pip version 21.0.1; however, version 21.1.1 is available.\n",
      "You should consider upgrading via the 'c:\\users\\user\\appdata\\local\\programs\\python\\python39\\python.exe -m pip install --upgrade pip' command.\n"
     ]
    }
   ],
   "source": [
    "!pip install selenium"
   ]
  },
  {
   "cell_type": "code",
   "execution_count": 2,
   "id": "requested-timeline",
   "metadata": {},
   "outputs": [
    {
     "name": "stdout",
     "output_type": "stream",
     "text": [
      "Requirement already satisfied: pip in c:\\users\\user\\appdata\\local\\programs\\python\\python39\\lib\\site-packages (21.0.1)\n",
      "Collecting pip\n",
      "  Downloading pip-21.1.1-py3-none-any.whl (1.5 MB)\n",
      "Installing collected packages: pip\n",
      "Successfully installed pip-21.1.1\n"
     ]
    },
    {
     "name": "stderr",
     "output_type": "stream",
     "text": [
      "  WARNING: The scripts pip.exe, pip3.9.exe and pip3.exe are installed in 'C:\\Users\\user\\AppData\\Roaming\\Python\\Python39\\Scripts' which is not on PATH.\n",
      "  Consider adding this directory to PATH or, if you prefer to suppress this warning, use --no-warn-script-location.\n"
     ]
    }
   ],
   "source": [
    "!pip install --user --upgrade pip"
   ]
  },
  {
   "cell_type": "code",
   "execution_count": 15,
   "id": "rising-pledge",
   "metadata": {},
   "outputs": [
    {
     "name": "stdout",
     "output_type": "stream",
     "text": [
      "<selenium.webdriver.remote.webelement.WebElement (session=\"129bb14cde61d067088810b0209aa754\", element=\"5e2f229f-5601-442a-9769-eb2a19a341aa\")>\n",
      "로그인\n",
      "네이버를 더 안전하고 편리하게 이용하세요\n",
      "네이버\n",
      "로그인\n",
      "아이디 비밀번호찾기\n",
      "회원가입\n"
     ]
    }
   ],
   "source": [
    "# 웹드라이버 설치\n",
    "\n",
    "    \n",
    "import selenium\n",
    "from selenium import webdriver\n",
    "path = \"C:/Users/user/webdriver/chromedriver.exe\"\n",
    "driver = webdriver.Chrome(path)\n",
    "driver.get('https://www.naver.com')\n",
    "\n",
    "accountElement = driver.find_element_by_id(\"account\")\n",
    "print(accountElement)\n",
    "print(accountElement.text)"
   ]
  },
  {
   "cell_type": "code",
   "execution_count": 28,
   "id": "selective-second",
   "metadata": {},
   "outputs": [],
   "source": [
    "    \n",
    "import selenium\n",
    "import time\n",
    "from selenium import webdriver\n",
    "path = \"C:/Users/user/webdriver/chromedriver.exe\"\n",
    "driver = webdriver.Chrome(path)\n",
    "driver.get('https://www.naver.com')\n",
    "\n",
    "\n",
    "accountElement = driver.find_element_by_class_name(\"link_login\")\n",
    "# # print(accountElement)\n",
    "# # print(accountElement.text)\n",
    "# print(accountElement.tag_name)\n",
    "accountElement.click()\n",
    "\n",
    "myid = 'ninanori'\n",
    "mypwd = 'Arario2356'\n",
    "\n",
    "\n",
    "# idElement = driver.find_element_by_id(\"id\")\n",
    "# idElement.send_keys(myid)\n",
    "# pwElement = driver.find_element_by_id(\"pw\")\n",
    "# pwElement.send_keys(mypwd)\n",
    "\n",
    "# ===> 로봇에 의한 로그인 방지를 위한 capchar작동\n",
    "# 이것을 우회하기 위해, 자바스크립트로 지접 입력\n",
    "\n",
    "driver.execute_script(\"document.getElementById('id').value=\\'\" + myid +\"\\'\")\n",
    "time.sleep(1)\n",
    "driver.execute_script(\"document.getElementById('pw').value=\\'\" + mypwd +\"\\'\")\n",
    "time.sleep(1)\n",
    "\n",
    "\n",
    "loginBtn = driver.find_element_by_id(\"log.login\")\n",
    "loginBtn.click()"
   ]
  },
  {
   "cell_type": "code",
   "execution_count": null,
   "id": "annoying-venue",
   "metadata": {},
   "outputs": [],
   "source": []
  }
 ],
 "metadata": {
  "kernelspec": {
   "display_name": "Python 3",
   "language": "python",
   "name": "python3"
  },
  "language_info": {
   "codemirror_mode": {
    "name": "ipython",
    "version": 3
   },
   "file_extension": ".py",
   "mimetype": "text/x-python",
   "name": "python",
   "nbconvert_exporter": "python",
   "pygments_lexer": "ipython3",
   "version": "3.9.2"
  }
 },
 "nbformat": 4,
 "nbformat_minor": 5
}
