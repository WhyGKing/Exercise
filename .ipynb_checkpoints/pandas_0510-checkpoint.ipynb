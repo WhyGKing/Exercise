{
 "cells": [
  {
   "cell_type": "code",
   "execution_count": 1,
   "id": "dynamic-stability",
   "metadata": {},
   "outputs": [
    {
     "name": "stdout",
     "output_type": "stream",
     "text": [
      "Collecting pandas\n",
      "  Downloading pandas-1.2.4-cp39-cp39-win_amd64.whl (9.3 MB)\n",
      "Requirement already satisfied: numpy>=1.16.5 in c:\\users\\user\\appdata\\local\\programs\\python\\python39\\lib\\site-packages (from pandas) (1.20.2)\n",
      "Requirement already satisfied: python-dateutil>=2.7.3 in c:\\users\\user\\appdata\\local\\programs\\python\\python39\\lib\\site-packages (from pandas) (2.8.1)\n",
      "Requirement already satisfied: pytz>=2017.3 in c:\\users\\user\\appdata\\local\\programs\\python\\python39\\lib\\site-packages (from pandas) (2021.1)\n",
      "Requirement already satisfied: six>=1.5 in c:\\users\\user\\appdata\\local\\programs\\python\\python39\\lib\\site-packages (from python-dateutil>=2.7.3->pandas) (1.15.0)\n",
      "Installing collected packages: pandas\n",
      "Successfully installed pandas-1.2.4\n"
     ]
    }
   ],
   "source": [
    "### pandas 설치와 import\n",
    "!pip install pandas"
   ]
  },
  {
   "cell_type": "markdown",
   "id": "choice-hungary",
   "metadata": {},
   "source": [
    "- 데이타 분석 3대 모듈\n",
    "numpy : 수치데이타 핸들링\n",
    "pandas : \n",
    "matplotlib : "
   ]
  },
  {
   "cell_type": "code",
   "execution_count": 2,
   "id": "nasty-wrist",
   "metadata": {},
   "outputs": [],
   "source": [
    "import pandas as pd\n",
    "import numpy as np"
   ]
  },
  {
   "cell_type": "code",
   "execution_count": 4,
   "id": "hawaiian-plant",
   "metadata": {},
   "outputs": [
    {
     "name": "stdout",
     "output_type": "stream",
     "text": [
      "0    1\n",
      "1    2\n",
      "2    3\n",
      "3    4\n",
      "4    5\n",
      "dtype: int64\n"
     ]
    }
   ],
   "source": [
    "s = pd.Series([1,2,3,4,5]) # series type : index와 value로 구성\n",
    "print(s)"
   ]
  },
  {
   "cell_type": "code",
   "execution_count": 5,
   "id": "hollywood-destiny",
   "metadata": {},
   "outputs": [
    {
     "name": "stdout",
     "output_type": "stream",
     "text": [
      "a    1\n",
      "b    9\n",
      "c   -3\n",
      "d    4\n",
      "dtype: int64\n"
     ]
    }
   ],
   "source": [
    "s = pd.Series([1, 9, -3, 4], index=['a', 'b', 'c', 'd']) # dictionary와 호환될 수 있다.\n",
    "print(s)"
   ]
  },
  {
   "cell_type": "code",
   "execution_count": 6,
   "id": "concerned-genesis",
   "metadata": {},
   "outputs": [
    {
     "name": "stdout",
     "output_type": "stream",
     "text": [
      "A    3000\n",
      "B    6000\n",
      "C    2000\n",
      "D    4000\n",
      "dtype: int64\n"
     ]
    }
   ],
   "source": [
    "dic = {'A':3000, 'B':6000, 'C':2000, 'D':4000}\n",
    "s = pd.Series(dic)\n",
    "print(s)"
   ]
  },
  {
   "cell_type": "markdown",
   "id": "available-florence",
   "metadata": {},
   "source": [
    "#### DataFrame\n",
    "- 이차원의 행렬구조를 나타냄."
   ]
  },
  {
   "cell_type": "code",
   "execution_count": 10,
   "id": "immune-national",
   "metadata": {},
   "outputs": [
    {
     "name": "stdout",
     "output_type": "stream",
     "text": [
      "     A           B  C  D    E    F\n",
      "0  1.0  2021-05-10  1  5  0.0  Web\n",
      "1  1.0  2021-05-10  2  6  0.0  Web\n",
      "2  1.0  2021-05-10  3  7  0.0  Web\n",
      "3  1.0  2021-05-10  4  8  0.0  Web\n"
     ]
    }
   ],
   "source": [
    "df = pd.DataFrame(\n",
    "    {\n",
    "        'A' : 1.,                   # 동일 데이타는 하나만 입력\n",
    "        'B' : '2021-05-10',\n",
    "        'C' : [1,2,3,4],\n",
    "        'D' : (5,6,7,8),\n",
    "        'E' : 0.,\n",
    "        'F' : 'Web'\n",
    "    }\n",
    ")\n",
    "\n",
    "print(df)"
   ]
  },
  {
   "cell_type": "code",
   "execution_count": 11,
   "id": "horizontal-aruba",
   "metadata": {},
   "outputs": [
    {
     "name": "stdout",
     "output_type": "stream",
     "text": [
      "  name  year  points\n",
      "0    A  2017     3.5\n",
      "1    B  2018     4.2\n",
      "2    C  2019     2.6\n",
      "3    D  2020     7.4\n",
      "4    E  2021     1.9\n"
     ]
    }
   ],
   "source": [
    "data = {'name':['A', 'B', 'C', 'D', 'E'],\n",
    "       'year':[2017, 2018, 2019, 2020, 2021],\n",
    "       'points':[3.5, 4.2, 2.6, 7.4, 1.9]}\n",
    "df = pd.DataFrame(data)\n",
    "print(df)"
   ]
  },
  {
   "cell_type": "code",
   "execution_count": 12,
   "id": "computational-adrian",
   "metadata": {},
   "outputs": [
    {
     "name": "stdout",
     "output_type": "stream",
     "text": [
      "   year\n",
      "0  2017\n",
      "1  2018\n",
      "2  2019\n",
      "3  2020\n",
      "4  2021\n"
     ]
    }
   ],
   "source": [
    "print(df[['year']])"
   ]
  },
  {
   "cell_type": "code",
   "execution_count": 13,
   "id": "chief-string",
   "metadata": {},
   "outputs": [
    {
     "name": "stdout",
     "output_type": "stream",
     "text": [
      "   year  points\n",
      "0  2017     3.5\n",
      "1  2018     4.2\n",
      "2  2019     2.6\n",
      "3  2020     7.4\n",
      "4  2021     1.9\n"
     ]
    }
   ],
   "source": [
    "print(df[['year', 'points']])"
   ]
  },
  {
   "cell_type": "code",
   "execution_count": 14,
   "id": "bottom-tanzania",
   "metadata": {},
   "outputs": [
    {
     "name": "stdout",
     "output_type": "stream",
     "text": [
      "  name  year  points  new\n",
      "0    A  2017     3.5    1\n",
      "1    B  2018     4.2    2\n",
      "2    C  2019     2.6    3\n",
      "3    D  2020     7.4    4\n",
      "4    E  2021     1.9    5\n"
     ]
    }
   ],
   "source": [
    "df['new'] = [1,2,3,4,5]\n",
    "print(df)"
   ]
  },
  {
   "cell_type": "code",
   "execution_count": 15,
   "id": "cross-polymer",
   "metadata": {},
   "outputs": [
    {
     "name": "stdout",
     "output_type": "stream",
     "text": [
      "  name  year  points  new   past\n",
      "0    A  2017     3.5    1   True\n",
      "1    B  2018     4.2    2   True\n",
      "2    C  2019     2.6    3   True\n",
      "3    D  2020     7.4    4  False\n",
      "4    E  2021     1.9    5  False\n"
     ]
    }
   ],
   "source": [
    "df['past'] = df['year'] < 2020\n",
    "print(df)"
   ]
  },
  {
   "cell_type": "code",
   "execution_count": 16,
   "id": "naughty-census",
   "metadata": {},
   "outputs": [
    {
     "name": "stdout",
     "output_type": "stream",
     "text": [
      "  name  year  points  new\n",
      "0    A  2017     3.5    1\n",
      "1    B  2018     4.2    2\n",
      "2    C  2019     2.6    3\n",
      "3    D  2020     7.4    4\n",
      "4    E  2021     1.9    5\n"
     ]
    }
   ],
   "source": [
    "del df['past']\n",
    "print(df)"
   ]
  },
  {
   "cell_type": "code",
   "execution_count": 17,
   "id": "broke-secondary",
   "metadata": {},
   "outputs": [
    {
     "name": "stdout",
     "output_type": "stream",
     "text": [
      "  name  year  points\n",
      "0    A  2017     3.5\n",
      "1    B  2018     4.2\n",
      "2    C  2019     2.6\n",
      "3    D  2020     7.4\n",
      "4    E  2021     1.9\n"
     ]
    }
   ],
   "source": [
    "data = {'name':['A', 'B', 'C', 'D', 'E'],\n",
    "       'year':[2017, 2018, 2019, 2020, 2021],\n",
    "       'points':[3.5, 4.2, 2.6, 7.4, 1.9]}\n",
    "df = pd.DataFrame(data)\n",
    "print(df)"
   ]
  },
  {
   "cell_type": "code",
   "execution_count": 18,
   "id": "competent-material",
   "metadata": {},
   "outputs": [
    {
     "name": "stdout",
     "output_type": "stream",
     "text": [
      "  name    year  points\n",
      "0    A  2017.0     3.5\n",
      "1    B  2018.0     4.2\n",
      "2    C  2019.0     2.6\n",
      "3    D  2020.0     7.4\n",
      "4    E  2021.0     1.9\n",
      "5    F  2022.0     4.0\n"
     ]
    }
   ],
   "source": [
    "df.loc[5, :] = ['F', 2022, 4.0]            # 새로운 행 추가 loc[행, 열개수]\n",
    "print(df)"
   ]
  },
  {
   "cell_type": "code",
   "execution_count": 19,
   "id": "corresponding-writer",
   "metadata": {},
   "outputs": [
    {
     "name": "stdout",
     "output_type": "stream",
     "text": [
      "  name    year  points\n",
      "0    A  2017.0     3.5\n",
      "1    B  2018.0     4.2\n",
      "2    C  2019.0     2.6\n"
     ]
    }
   ],
   "source": [
    "print(df[0:3])"
   ]
  },
  {
   "cell_type": "code",
   "execution_count": 20,
   "id": "everyday-romantic",
   "metadata": {},
   "outputs": [
    {
     "name": "stdout",
     "output_type": "stream",
     "text": [
      "1    B\n",
      "2    C\n",
      "3    D\n",
      "Name: name, dtype: object\n"
     ]
    }
   ],
   "source": [
    "print(df.loc[1:3, 'name'])"
   ]
  },
  {
   "cell_type": "code",
   "execution_count": 21,
   "id": "elder-inspiration",
   "metadata": {},
   "outputs": [
    {
     "name": "stdout",
     "output_type": "stream",
     "text": [
      "0    2020.5\n",
      "1    2022.2\n",
      "2    2021.6\n",
      "3    2027.4\n",
      "4    2022.9\n",
      "5    2026.0\n",
      "dtype: float64\n",
      "name       ABCDEF\n",
      "year      12117.0\n",
      "points       23.6\n",
      "dtype: object\n"
     ]
    }
   ],
   "source": [
    "print(df.sum(axis=1))\n",
    "print(df.sum(axis=0))"
   ]
  },
  {
   "cell_type": "markdown",
   "id": "educated-copying",
   "metadata": {},
   "source": [
    "통계청 통계교육원 : https://sti.kostat.go.kr/coresti/site/main.do"
   ]
  },
  {
   "cell_type": "markdown",
   "id": "superior-luther",
   "metadata": {},
   "source": [
    "### 파이썬 엑셀 라이브러리\n",
    "\n"
   ]
  },
  {
   "cell_type": "code",
   "execution_count": 24,
   "id": "informal-portugal",
   "metadata": {},
   "outputs": [
    {
     "name": "stdout",
     "output_type": "stream",
     "text": [
      "0    2020.5\n",
      "1    2022.2\n",
      "2    2021.6\n",
      "3    2027.4\n",
      "4    2022.9\n",
      "5    2026.0\n",
      "dtype: float64\n"
     ]
    }
   ],
   "source": [
    "print(df.sum(axis=1))   # 각 행의 합"
   ]
  },
  {
   "cell_type": "code",
   "execution_count": 25,
   "id": "virtual-sender",
   "metadata": {},
   "outputs": [
    {
     "name": "stdout",
     "output_type": "stream",
     "text": [
      "name       ABCDEF\n",
      "year      12117.0\n",
      "points       23.6\n",
      "dtype: object\n"
     ]
    }
   ],
   "source": [
    "print(df.sum(axis=0))"
   ]
  },
  {
   "cell_type": "code",
   "execution_count": null,
   "id": "beneficial-watson",
   "metadata": {},
   "outputs": [],
   "source": []
  }
 ],
 "metadata": {
  "kernelspec": {
   "display_name": "Python 3",
   "language": "python",
   "name": "python3"
  },
  "language_info": {
   "codemirror_mode": {
    "name": "ipython",
    "version": 3
   },
   "file_extension": ".py",
   "mimetype": "text/x-python",
   "name": "python",
   "nbconvert_exporter": "python",
   "pygments_lexer": "ipython3",
   "version": "3.9.2"
  }
 },
 "nbformat": 4,
 "nbformat_minor": 5
}
