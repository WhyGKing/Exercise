{
 "cells": [
  {
   "cell_type": "code",
   "execution_count": 6,
   "id": "sought-exclusive",
   "metadata": {},
   "outputs": [],
   "source": [
    "### 통계청 홈페이지에서 1976년부터 2020년까지의 Kospi지수를 csv파일로 저장하기 위한 코드입니다.\n",
    "\n",
    "import selenium\n",
    "from selenium import webdriver\n",
    "from selenium.webdriver.support.ui import Select\n",
    "\n",
    "### '통계청'홈페이지에서 데이타조회 페이지를 불러온다.\n",
    "# path = \"C:\\Github/chromedriver.exe\"\n",
    "path = \"C:/Users/user/webdriver/chromedriver.exe\"\n",
    "driver = webdriver.Chrome(path)\n",
    "driver.get('https://kosis.kr/statHtml/statHtml.do?orgId=343&tblId=DT_343_2010_S0027')\n",
    "\n",
    "### '시점' 탭의 '년' 체크박스 체크, '월' 체크박스 해제\n",
    "element_tab = driver.find_element_by_xpath('//*[@id=\"tabTimeText\"]/a/font').click()\n",
    "element_checkBox = driver.find_element_by_id('checkM').click()\n",
    "element_checkBox = driver.find_element_by_id('checkY').click()\n",
    "\n",
    "### 드랍박스에서 '년도'선택\n",
    "element_dropdown = driver.find_element_by_xpath('//*[@id=\"timeY\"]/h2/select[1]')\n",
    "select = Select(element_dropdown)\n",
    "select.select_by_visible_text('1976')\n",
    "\n",
    "### 조회버튼 클릭\n",
    "element_tab = driver.find_element_by_class_name('rightBtn').click()\n",
    "\n"
   ]
  },
  {
   "cell_type": "code",
   "execution_count": 22,
   "id": "young-lemon",
   "metadata": {},
   "outputs": [
    {
     "name": "stdout",
     "output_type": "stream",
     "text": [
      "[]\n"
     ]
    }
   ],
   "source": [
    "import requests\n",
    "from bs4 import BeautifulSoup\n",
    "\n",
    "path = \"C:/Users/user/webdriver/chromedriver.exe\"\n",
    "driver = webdriver.Chrome(path)\n",
    "\n",
    "# driver.get('C:/Github/Exercise/htmlSource_kospiIndex.html')   >>> 웹페이지가 나타나지 않음.\n",
    "# html = 'file:///C:/Github/Exercise/htmlSource_kospiIndex3.html'\n",
    "html = 'file:///C:/Github/Exercise/1.html'\n",
    "soup = BeautifulSoup(html, 'html.parser')\n",
    "data = soup.find_all('td')\n",
    "\n",
    "print(data)"
   ]
  }
 ],
 "metadata": {
  "kernelspec": {
   "display_name": "Python 3",
   "language": "python",
   "name": "python3"
  },
  "language_info": {
   "codemirror_mode": {
    "name": "ipython",
    "version": 3
   },
   "file_extension": ".py",
   "mimetype": "text/x-python",
   "name": "python",
   "nbconvert_exporter": "python",
   "pygments_lexer": "ipython3",
   "version": "3.9.2"
  }
 },
 "nbformat": 4,
 "nbformat_minor": 5
}
