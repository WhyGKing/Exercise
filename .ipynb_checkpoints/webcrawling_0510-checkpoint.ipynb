{
 "cells": [
  {
   "cell_type": "code",
   "execution_count": null,
   "id": "crude-credit",
   "metadata": {},
   "outputs": [],
   "source": [
    "# 다음 페이지 url\n",
    "# https://www.daum.net/\n",
    "# 카카오계정으로 로그인\n",
    "# class : link_login link_kakaoid\n",
    "\n",
    "import selenium\n",
    "from selenium import webdriver\n",
    "import time\n",
    "\n",
    "path = 'C:/Users/user/webdriver/chromedriver.exe'\n",
    "driver = webdriver.Chrome(path)\n",
    "driver.get('https://www.daum.net/')\n",
    "\n",
    "element = driver.find_element_by_class_name(\"link_login\")\n",
    "element.click()\n",
    "\n",
    "myid = input(\"Input your ID\")\n",
    "mypwd = pypwd(\"Input your password\")\n",
    "\n",
    "\n",
    "# capchar를 피하기 위한 코드\n",
    "driver.execute_script(\"document.getElementById('id').value=\\'\" + myid +\"\\'\")\n",
    "time.sleep(1)\n",
    "driver.execute_script(\"document.getElementById('inputPwd').value=\\'\" + mypwd +\"\\'\")\n",
    "time.sleep(1)\n",
    "\n",
    "logbtn = driver.find_element_by_id(\"loginBtn\")\n",
    "logbtn.click()"
   ]
  },
  {
   "cell_type": "code",
   "execution_count": null,
   "id": "cardiac-aircraft",
   "metadata": {},
   "outputs": [],
   "source": [
    "!pip install pandas\n",
    "import pandas as pd\n",
    "!pip install --upgrade --user pip \n",
    "!pip install matplotlib"
   ]
  },
  {
   "cell_type": "code",
   "execution_count": null,
   "id": "transsexual-margin",
   "metadata": {},
   "outputs": [],
   "source": [
    "import matplotlib.pyplot as plt\n",
    "%matplotlib inline\n",
    "\n",
    "figure = plt.figure()\n",
    "axes1 = figure.add_subplot(1, 2, 1)\n",
    "axes2 = figure.add_subplot(1, 2, 2)\n",
    "\n",
    "plt.show()"
   ]
  },
  {
   "cell_type": "code",
   "execution_count": null,
   "id": "serious-objective",
   "metadata": {},
   "outputs": [],
   "source": [
    "import matplotlib.pyplot as plt\n",
    "%matplotlib inline\n",
    "\n",
    "figure = plt.figure()\n",
    "axes = figure.add_subplot(1, 1, 1)  # 행,열, 번호  순서\n",
    "\n",
    "x = [0,2,4,6]\n",
    "y = [0,4,0,2]\n",
    "axes.plot(x,y)\n",
    "\n",
    "plt.show()"
   ]
  }
 ],
 "metadata": {
  "kernelspec": {
   "display_name": "Python 3",
   "language": "python",
   "name": "python3"
  },
  "language_info": {
   "codemirror_mode": {
    "name": "ipython",
    "version": 3
   },
   "file_extension": ".py",
   "mimetype": "text/x-python",
   "name": "python",
   "nbconvert_exporter": "python",
   "pygments_lexer": "ipython3",
   "version": "3.9.2"
  }
 },
 "nbformat": 4,
 "nbformat_minor": 5
}
